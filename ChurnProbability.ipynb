{
 "cells": [
  {
   "cell_type": "code",
   "execution_count": 61,
   "id": "8367ae40-1e6f-4d1a-8712-5b2b77ecafde",
   "metadata": {},
   "outputs": [
    {
     "name": "stdout",
     "output_type": "stream",
     "text": [
      "   user_id  app_install  subscription_cancelled  subscription_renewed  \\\n",
      "0        1            1                       0                     0   \n",
      "1        2            1                       1                     3   \n",
      "2        3            1                       1                     3   \n",
      "3        4            1                       0                     0   \n",
      "4        5            1                       0                     0   \n",
      "\n",
      "   subscription_started  trial_cancelled  trial_started  total_payment  \\\n",
      "0                     0                1              1           0.00   \n",
      "1                     1                0              1          35.96   \n",
      "2                     1                0              1          19.96   \n",
      "3                     0                1              1           0.00   \n",
      "4                     0                0              0           0.00   \n",
      "\n",
      "   active_days  churned  attribution_source_organic  \\\n",
      "0           17        0                       False   \n",
      "1          123        1                       False   \n",
      "2           97        1                       False   \n",
      "3            9        0                       False   \n",
      "4            0        0                        True   \n",
      "\n",
      "   attribution_source_tiktok  country_TR  country_US  \n",
      "0                      False       False        True  \n",
      "1                      False       False       False  \n",
      "2                       True        True       False  \n",
      "3                       True        True       False  \n",
      "4                      False       False       False  \n"
     ]
    }
   ],
   "source": [
    "import pandas as pd\n",
    "import sqlite3\n",
    "\n",
    "# Veritabanına bağlan\n",
    "conn = sqlite3.connect(\"papcorns.sqlite\")\n",
    "\n",
    "# users ve user_events tablolarını oku\n",
    "users_df = pd.read_sql(\"SELECT * FROM users\", conn)\n",
    "events_df = pd.read_sql(\"SELECT * FROM user_events\", conn)\n",
    "\n",
    "# Tarihleri dönüştür\n",
    "users_df[\"created_at\"] = pd.to_datetime(users_df[\"created_at\"])\n",
    "events_df[\"created_at\"] = pd.to_datetime(events_df[\"created_at\"])\n",
    "events_df[\"amount_usd\"] = pd.to_numeric(events_df[\"amount_usd\"], errors=\"coerce\")\n",
    "\n",
    "# Kullanıcı başına özet istatistik çıkarımı\n",
    "def extract_features(events):\n",
    "    event_counts = events.pivot_table(index=\"user_id\", columns=\"event_name\", aggfunc=\"size\", fill_value=0)\n",
    "    payments = events.groupby(\"user_id\")[\"amount_usd\"].sum().rename(\"total_payment\")\n",
    "    active_days = events.groupby(\"user_id\").agg(first_event=(\"created_at\", \"min\"),\n",
    "                                                last_event=(\"created_at\", \"max\"))\n",
    "    active_days[\"active_days\"] = (active_days[\"last_event\"] - active_days[\"first_event\"]).dt.days\n",
    "    churned = events.groupby(\"user_id\")[\"event_name\"].apply(lambda x: int(\"subscription_cancelled\" in x.values))\n",
    "\n",
    "    features = event_counts.join([payments, active_days[\"active_days\"], churned.rename(\"churned\")])\n",
    "    return features.reset_index()\n",
    "\n",
    "# Özellikleri çıkar\n",
    "user_features = extract_features(events_df)\n",
    "\n",
    "# Kullanıcı bilgileri ile birleştir\n",
    "combined_df = user_features.merge(users_df, left_on=\"user_id\", right_on=\"id\").drop(columns=[\"id\", \"name\", \"created_at\"])\n",
    "\n",
    "# Kategorik değişkenleri one-hot encode et\n",
    "final_df = pd.get_dummies(combined_df, columns=[\"attribution_source\", \"country\"], drop_first=True)\n",
    "\n",
    "# Sonuç\n",
    "print(final_df.head())"
   ]
  },
  {
   "cell_type": "code",
   "execution_count": 63,
   "id": "6bb65e9a-a3ff-4699-8f7b-e08e4fefb064",
   "metadata": {},
   "outputs": [
    {
     "name": "stdout",
     "output_type": "stream",
     "text": [
      "Clark Kent'in (user_id=1002) churn olasılığı: %0.08\n"
     ]
    }
   ],
   "source": [
    "from sklearn.linear_model import LogisticRegression\n",
    "from sklearn.model_selection import train_test_split\n",
    "from sklearn.preprocessing import StandardScaler\n",
    "\n",
    "# X ve y ayır\n",
    "X = final_df.drop(columns=[\"user_id\", \"churned\"])\n",
    "y = final_df[\"churned\"]\n",
    "\n",
    "# Veriyi ölçeklendirme (özellikle sayısal kolonlar için önemli)\n",
    "scaler = StandardScaler()\n",
    "X_scaled = scaler.fit_transform(X)\n",
    "\n",
    "# Eğitim/test ayrımı\n",
    "X_train, X_test, y_train, y_test = train_test_split(X_scaled, y, test_size=0.2, random_state=42, stratify=y)\n",
    "\n",
    "# Model oluştur ve eğit\n",
    "model = LogisticRegression(max_iter=1000, random_state=42)\n",
    "model.fit(X_train, y_train)\n",
    "\n",
    "# Clark Kent (user_id = 1002) için churn tahmini\n",
    "clark_row = final_df[final_df[\"user_id\"] == 1002].drop(columns=[\"user_id\", \"churned\"])\n",
    "clark_scaled = scaler.transform(clark_row)\n",
    "clark_prob = model.predict_proba(clark_scaled)[0][1]  # churn olasılığı\n",
    "\n",
    "print(f\"Clark Kent'in (user_id=1002) churn olasılığı: %{clark_prob * 100:.2f}\")"
   ]
  },
  {
   "cell_type": "code",
   "execution_count": 65,
   "id": "cb2127c9-21f9-45ba-a5d2-d636ed53bb86",
   "metadata": {
    "editable": true,
    "slideshow": {
     "slide_type": ""
    },
    "tags": []
   },
   "outputs": [
    {
     "name": "stdout",
     "output_type": "stream",
     "text": [
      "✅ Accuracy: 1.0000\n",
      "✅ ROC AUC Score: 1.0000\n"
     ]
    },
    {
     "data": {
      "image/png": "[encoded data removed]",
      "text/plain": [
       "<Figure size 640x480 with 2 Axes>"
      ]
     },
     "metadata": {},
     "output_type": "display_data"
    },
    {
     "name": "stdout",
     "output_type": "stream",
     "text": [
      "\n",
      "✅ Classification Report:\n",
      "\n",
      "              precision    recall  f1-score   support\n",
      "\n",
      "           0       1.00      1.00      1.00       127\n",
      "           1       1.00      1.00      1.00        74\n",
      "\n",
      "    accuracy                           1.00       201\n",
      "   macro avg       1.00      1.00      1.00       201\n",
      "weighted avg       1.00      1.00      1.00       201\n",
      "\n"
     ]
    }
   ],
   "source": [
    "from sklearn.metrics import accuracy_score, roc_auc_score, confusion_matrix, classification_report\n",
    "import seaborn as sns\n",
    "import matplotlib.pyplot as plt\n",
    "\n",
    "# Test setinde tahminler\n",
    "y_pred = model.predict(X_test)\n",
    "y_prob = model.predict_proba(X_test)[:, 1]\n",
    "\n",
    "# 1. Accuracy\n",
    "acc = accuracy_score(y_test, y_pred)\n",
    "print(f\"✅ Accuracy: {acc:.4f}\")\n",
    "\n",
    "# 2. ROC AUC Score\n",
    "auc = roc_auc_score(y_test, y_prob)\n",
    "print(f\"✅ ROC AUC Score: {auc:.4f}\")\n",
    "\n",
    "# 3. Confusion Matrix\n",
    "cm = confusion_matrix(y_test, y_pred)\n",
    "sns.heatmap(cm, annot=True, fmt='d', cmap='Blues')\n",
    "plt.title(\"Confusion Matrix\")\n",
    "plt.xlabel(\"Predicted\")\n",
    "plt.ylabel(\"Actual\")\n",
    "plt.show()\n",
    "\n",
    "# 4. Classification Report\n",
    "print(\"\\n✅ Classification Report:\\n\")\n",
    "print(classification_report(y_test, y_pred))"
   ]
  },
  {
   "cell_type": "code",
   "execution_count": 67,
   "id": "02769235-37d9-4402-9f9d-696b7d276fd0",
   "metadata": {},
   "outputs": [
    {
     "name": "stdout",
     "output_type": "stream",
     "text": [
      "Cross-validated ROC AUC: [1. 1. 1. 1. 1.]\n",
      "Mean AUC: 1.0\n"
     ]
    }
   ],
   "source": [
    "from sklearn.model_selection import cross_val_score\n",
    "\n",
    "scores = cross_val_score(model, X_scaled, y, cv=5, scoring='roc_auc')\n",
    "print(\"Cross-validated ROC AUC:\", scores)\n",
    "print(\"Mean AUC:\", scores.mean())"
   ]
  },
  {
   "cell_type": "markdown",
   "id": "d9e3980c-b950-487f-8f05-529a4b948baf",
   "metadata": {},
   "source": [
    "Şu anki model, büyük ihtimalle hedefe doğrudan temas eden sütunlardan besleniyor. O nedenle mükemmel sonuçlar veriyor ama bu genellenebilirlik açısından riskli. Buradan sonra yer alan kodlar deneme amaçlı yazılmıştır."
   ]
  },
  {
   "cell_type": "code",
   "execution_count": 70,
   "id": "ff2cb028-d4d5-40bb-a28b-ba37139bf855",
   "metadata": {},
   "outputs": [],
   "source": [
    "# Yeni özellik çıkarımı\n",
    "def clean_features(events, users_df):\n",
    "    # Trial subscription eventleri varsa 1, yoksa 0\n",
    "    def binary_feature(event_name):\n",
    "        return events.groupby(\"user_id\")[\"event_name\"].apply(lambda x: int(event_name in x.values))\n",
    "    \n",
    "    features = pd.DataFrame()\n",
    "    \n",
    "    # Toplam ödeme\n",
    "    total_payment = events.groupby(\"user_id\")[\"amount_usd\"].sum().rename(\"total_payment\")\n",
    "    \n",
    "    # Etkinlik süresi\n",
    "    activity = events.groupby(\"user_id\").agg(\n",
    "        first_event=(\"created_at\", \"min\"),\n",
    "        last_event=(\"created_at\", \"max\")\n",
    "    )\n",
    "    activity[\"active_days\"] = (activity[\"last_event\"] - activity[\"first_event\"]).dt.days\n",
    "    \n",
    "    # Belli eventler var mı?\n",
    "    trial_started = binary_feature(\"trial_started\")\n",
    "    sub_started = binary_feature(\"subscription_started\")\n",
    "    sub_renewed = events[events[\"event_name\"] == \"subscription_renewed\"].groupby(\"user_id\").size().rename(\"subscription_renewed_count\")\n",
    "    \n",
    "    # churn targetı subscription_cancelled'a göre belirle\n",
    "    churn = binary_feature(\"subscription_cancelled\").rename(\"churned\")\n",
    "    \n",
    "    # Tüm featureları birleştir\n",
    "    features = pd.concat([total_payment, activity[\"active_days\"], trial_started.rename(\"trial_started\"),\n",
    "                          sub_started.rename(\"subscription_started\"),\n",
    "                          sub_renewed, churn], axis=1).fillna(0)\n",
    "    \n",
    "    # users bilgisi ile join et\n",
    "    final_df = features.reset_index().merge(users_df, left_on=\"user_id\", right_on=\"id\")\n",
    "    final_df = final_df.drop(columns=[\"id\", \"name\", \"created_at\"])\n",
    "    \n",
    "    # One-hot encoding\n",
    "    final_df = pd.get_dummies(final_df, columns=[\"attribution_source\", \"country\"], drop_first=True)\n",
    "    \n",
    "    return final_df\n",
    "\n",
    "# Yeni temiz veri setini hazırla\n",
    "final_clean_df = clean_features(events_df, users_df)\n",
    "\n",
    "# Eğitim ve test için X, y ayır\n",
    "X_clean = final_clean_df.drop(columns=[\"user_id\", \"churned\"])\n",
    "y_clean = final_clean_df[\"churned\"]"
   ]
  },
  {
   "cell_type": "code",
   "execution_count": 72,
   "id": "bc4f71bb-2941-4f5a-8f09-f8cb89c1348c",
   "metadata": {},
   "outputs": [
    {
     "name": "stdout",
     "output_type": "stream",
     "text": [
      "      user_id  total_payment  active_days  trial_started  \\\n",
      "0           1           0.00           17              1   \n",
      "1           2          35.96          123              1   \n",
      "2           3          19.96           97              1   \n",
      "3           4           0.00            9              1   \n",
      "4           5           0.00            0              0   \n",
      "...       ...            ...          ...            ...   \n",
      "997       998           0.00            0              0   \n",
      "998       999          26.97           74              1   \n",
      "999      1000           0.00           12              1   \n",
      "1000     1001           9.99            0              1   \n",
      "1001     1002           0.00            0              0   \n",
      "\n",
      "      subscription_started  subscription_renewed_count  churned  \\\n",
      "0                        0                         0.0        0   \n",
      "1                        1                         3.0        1   \n",
      "2                        1                         3.0        1   \n",
      "3                        0                         0.0        0   \n",
      "4                        0                         0.0        0   \n",
      "...                    ...                         ...      ...   \n",
      "997                      0                         0.0        0   \n",
      "998                      1                         2.0        1   \n",
      "999                      0                         0.0        0   \n",
      "1000                     1                         0.0        0   \n",
      "1001                     0                         0.0        0   \n",
      "\n",
      "      attribution_source_organic  attribution_source_tiktok  country_TR  \\\n",
      "0                          False                      False       False   \n",
      "1                          False                      False       False   \n",
      "2                          False                       True        True   \n",
      "3                          False                       True        True   \n",
      "4                           True                      False       False   \n",
      "...                          ...                        ...         ...   \n",
      "997                        False                      False        True   \n",
      "998                         True                      False       False   \n",
      "999                         True                      False       False   \n",
      "1000                       False                      False       False   \n",
      "1001                        True                      False        True   \n",
      "\n",
      "      country_US  \n",
      "0           True  \n",
      "1          False  \n",
      "2          False  \n",
      "3          False  \n",
      "4          False  \n",
      "...          ...  \n",
      "997        False  \n",
      "998        False  \n",
      "999        False  \n",
      "1000        True  \n",
      "1001       False  \n",
      "\n",
      "[1002 rows x 11 columns]\n",
      "\n",
      "X_clean:\n",
      "       total_payment  active_days  trial_started  subscription_started  \\\n",
      "0              0.00           17              1                     0   \n",
      "1             35.96          123              1                     1   \n",
      "2             19.96           97              1                     1   \n",
      "3              0.00            9              1                     0   \n",
      "4              0.00            0              0                     0   \n",
      "...             ...          ...            ...                   ...   \n",
      "997            0.00            0              0                     0   \n",
      "998           26.97           74              1                     1   \n",
      "999            0.00           12              1                     0   \n",
      "1000           9.99            0              1                     1   \n",
      "1001           0.00            0              0                     0   \n",
      "\n",
      "      subscription_renewed_count  attribution_source_organic  \\\n",
      "0                            0.0                       False   \n",
      "1                            3.0                       False   \n",
      "2                            3.0                       False   \n",
      "3                            0.0                       False   \n",
      "4                            0.0                        True   \n",
      "...                          ...                         ...   \n",
      "997                          0.0                       False   \n",
      "998                          2.0                        True   \n",
      "999                          0.0                        True   \n",
      "1000                         0.0                       False   \n",
      "1001                         0.0                        True   \n",
      "\n",
      "      attribution_source_tiktok  country_TR  country_US  \n",
      "0                         False       False        True  \n",
      "1                         False       False       False  \n",
      "2                          True        True       False  \n",
      "3                          True        True       False  \n",
      "4                         False       False       False  \n",
      "...                         ...         ...         ...  \n",
      "997                       False        True       False  \n",
      "998                       False       False       False  \n",
      "999                       False       False       False  \n",
      "1000                      False       False        True  \n",
      "1001                      False        True       False  \n",
      "\n",
      "[1002 rows x 9 columns]\n",
      "\n",
      "y_clean:\n",
      " 0       0\n",
      "1       1\n",
      "2       1\n",
      "3       0\n",
      "4       0\n",
      "       ..\n",
      "997     0\n",
      "998     1\n",
      "999     0\n",
      "1000    0\n",
      "1001    0\n",
      "Name: churned, Length: 1002, dtype: int64\n"
     ]
    }
   ],
   "source": [
    "# Fonksiyonu çağır\n",
    "final_clean_df = clean_features(events_df, users_df)\n",
    "\n",
    "# X, y ayır\n",
    "X_clean = final_clean_df.drop(columns=[\"user_id\", \"churned\"])\n",
    "y_clean = final_clean_df[\"churned\"]\n",
    "\n",
    "# Çıktıya bakalım\n",
    "print(final_clean_df)\n",
    "print(\"\\nX_clean:\\n\", X_clean)\n",
    "print(\"\\ny_clean:\\n\", y_clean)\n"
   ]
  },
  {
   "cell_type": "code",
   "execution_count": 74,
   "id": "6bb26258-b667-4cad-9071-e83f7dfc2a27",
   "metadata": {},
   "outputs": [
    {
     "name": "stdout",
     "output_type": "stream",
     "text": [
      "              precision    recall  f1-score   support\n",
      "\n",
      "           0       1.00      1.00      1.00       128\n",
      "           1       1.00      1.00      1.00        73\n",
      "\n",
      "    accuracy                           1.00       201\n",
      "   macro avg       1.00      1.00      1.00       201\n",
      "weighted avg       1.00      1.00      1.00       201\n",
      "\n"
     ]
    }
   ],
   "source": [
    "from sklearn.ensemble import RandomForestClassifier\n",
    "from sklearn.model_selection import train_test_split\n",
    "from sklearn.metrics import classification_report\n",
    "\n",
    "# Eğitim ve test verisini ayır\n",
    "X_train, X_test, y_train, y_test = train_test_split(X_clean, y_clean, test_size=0.2, random_state=42)\n",
    "\n",
    "# Modeli eğit\n",
    "model = RandomForestClassifier(random_state=42)\n",
    "model.fit(X_train, y_train)\n",
    "\n",
    "# Modelin genel başarısını kontrol et (opsiyonel)\n",
    "y_pred = model.predict(X_test)\n",
    "print(classification_report(y_test, y_pred))"
   ]
  },
  {
   "cell_type": "code",
   "execution_count": 76,
   "id": "bfda61d7-2886-4f8a-b74e-abfb2bc5e9b6",
   "metadata": {},
   "outputs": [
    {
     "name": "stdout",
     "output_type": "stream",
     "text": [
      "Clark Kent için churn olasılığı: %0.00\n"
     ]
    }
   ],
   "source": [
    "# Clark Kent'in verisini çek\n",
    "clark_kent_features = final_clean_df[final_clean_df[\"user_id\"] == 1002].drop(columns=[\"user_id\", \"churned\"])\n",
    "\n",
    "# Olasılığı tahmin et (probability olarak)\n",
    "clark_kent_proba = model.predict_proba(clark_kent_features)[0][1]  # [0][1] -> churn (1) olasılığı\n",
    "\n",
    "print(f\"Clark Kent için churn olasılığı: %{clark_kent_proba * 100:.2f}\")"
   ]
  }
 ],
 "metadata": {
  "kernelspec": {
   "display_name": "Python 3 (ipykernel)",
   "language": "python",
   "name": "python3"
  },
  "language_info": {
   "codemirror_mode": {
    "name": "ipython",
    "version": 3
   },
   "file_extension": ".py",
   "mimetype": "text/x-python",
   "name": "python",
   "nbconvert_exporter": "python",
   "pygments_lexer": "ipython3",
   "version": "3.12.4"
  }
 },
 "nbformat": 4,
 "nbformat_minor": 5
}
